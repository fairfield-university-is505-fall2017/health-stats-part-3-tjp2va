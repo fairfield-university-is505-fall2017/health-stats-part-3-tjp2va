{
 "cells": [
  {
   "cell_type": "markdown",
   "metadata": {},
   "source": [
    "# Health Stats Part 2: Waist 2 Hip Ratios"
   ]
  },
  {
   "cell_type": "markdown",
   "metadata": {},
   "source": [
    "<!--- Write an explanation of the Waist To Hips Ratio statistic used by health professionals. Please include an explanation of what it is used for, exactly how it is calculated, and how to interpret the results. Note: Formmatting matters. Make this as professional as you can using Markdown.  --->\n",
    "EDIT THIS MARKDOWN CELL"
   ]
  },
  {
   "cell_type": "markdown",
   "metadata": {},
   "source": [
    "## Source Data "
   ]
  },
  {
   "cell_type": "markdown",
   "metadata": {},
   "source": [
    "<!--- Replace the text below with a Markdown bullet list that defines the columns of the CSV file. Be sure to indicate the data type for each column. --->\n",
    "EDIT THIS MARKDOWN CELL"
   ]
  },
  {
   "cell_type": "markdown",
   "metadata": {},
   "source": [
    "## Data Import"
   ]
  },
  {
   "cell_type": "code",
   "execution_count": 3,
   "metadata": {},
   "outputs": [
    {
     "data": {
      "text/plain": [
       "array([( 1,  30.,  32., 'M'), ( 2,  32.,  37., 'M'), ( 3,  30.,  36., 'M'),\n",
       "       ( 4,  33.,  39., 'M'), ( 5,  29.,  33., 'M'), ( 6,  32.,  38., 'M'),\n",
       "       ( 7,  33.,  42., 'M'), ( 8,  30.,  40., 'M'), ( 9,  30.,  37., 'M'),\n",
       "       (10,  32.,  39., 'M'), (11,  24.,  35., 'F'), (12,  25.,  37., 'F'),\n",
       "       (13,  24.,  37., 'F'), (14,  22.,  34., 'F'), (15,  26.,  38., 'F'),\n",
       "       (16,  26.,  37., 'F'), (17,  25.,  38., 'F'), (18,  26.,  37., 'F'),\n",
       "       (19,  28.,  40., 'F'), (20,  23.,  35., 'F')], \n",
       "      dtype=[('ID', '<i4'), ('Waist', '<f8'), ('Hip', '<f8'), ('Gender', '<U1')])"
      ]
     },
     "execution_count": 3,
     "metadata": {},
     "output_type": "execute_result"
    }
   ],
   "source": [
    "# Goal: Extract the data from the file\n",
    "\n",
    "import numpy as np\n",
    "\n",
    "rows = np.genfromtxt('w2h_data.csv',delimiter=',',names=True,dtype=[int,float,float,'U1'])\n",
    "rows\n",
    "\n"
   ]
  },
  {
   "cell_type": "code",
   "execution_count": 2,
   "metadata": {},
   "outputs": [
    {
     "name": "stdout",
     "output_type": "stream",
     "text": [
      "[{'ID': 1, 'Waist': 30, 'Hip': 32, 'Gender': 'M'}, {'ID': 2, 'Waist': 32, 'Hip': 37, 'Gender': 'M'}, {'ID': 3, 'Waist': 30, 'Hip': 36, 'Gender': 'M'}, {'ID': 4, 'Waist': 33, 'Hip': 39, 'Gender': 'M'}, {'ID': 5, 'Waist': 29, 'Hip': 33, 'Gender': 'M'}, {'ID': 6, 'Waist': 32, 'Hip': 38, 'Gender': 'M'}, {'ID': 7, 'Waist': 33, 'Hip': 42, 'Gender': 'M'}, {'ID': 8, 'Waist': 30, 'Hip': 40, 'Gender': 'M'}, {'ID': 9, 'Waist': 30, 'Hip': 37, 'Gender': 'M'}, {'ID': 10, 'Waist': 32, 'Hip': 39, 'Gender': 'M'}, {'ID': 11, 'Waist': 24, 'Hip': 35, 'Gender': 'F'}, {'ID': 12, 'Waist': 25, 'Hip': 37, 'Gender': 'F'}, {'ID': 13, 'Waist': 24, 'Hip': 37, 'Gender': 'F'}, {'ID': 14, 'Waist': 22, 'Hip': 34, 'Gender': 'F'}, {'ID': 15, 'Waist': 26, 'Hip': 38, 'Gender': 'F'}, {'ID': 16, 'Waist': 26, 'Hip': 37, 'Gender': 'F'}, {'ID': 17, 'Waist': 25, 'Hip': 38, 'Gender': 'F'}, {'ID': 18, 'Waist': 26, 'Hip': 37, 'Gender': 'F'}, {'ID': 19, 'Waist': 28, 'Hip': 40, 'Gender': 'F'}, {'ID': 20, 'Waist': 23, 'Hip': 35, 'Gender': 'F'}]\n"
     ]
    }
   ],
   "source": [
    "# Goal: Scrub and convert the data, loading it into a new list called rows\n",
    "\n",
    "# Strips out newline '\\n' characters and converts to a list\n",
    "raw_rows = [r.rstrip('\\n').split(',') for r in raw_lines] # <--- Whoa. Why does this work? \n",
    "\n",
    "# Creates a new list, starting with just the column names\n",
    "rows = list() \n",
    "\n",
    "# The first row is the keys wit the column names\n",
    "keys = raw_rows[0];\n",
    "\n",
    "# Convert each row_row, starting with the second\n",
    "for raw_row in raw_rows[1:]:\n",
    "    \n",
    "    # Note: the values in the raw_row list are all strings.\n",
    "    # Create a new list called row that converts each item in raw_row to the right data type  \n",
    "    row = [int(raw_row[0]),int(raw_row[1]),int(raw_row[2]),raw_row[3]] # FIX THIS; you'll need to use conversion functions\n",
    "    \n",
    "    # structure the row as a dict \n",
    "    record = dict(zip(keys,row))\n",
    "    \n",
    "    # Append the new row to the rows list as a dictionary\n",
    "    rows.append(record)\n",
    "    \n",
    "    \n",
    "# from here on out use the rows list instead of raw_rows or raw_lines\n",
    "print(rows)"
   ]
  },
  {
   "cell_type": "markdown",
   "metadata": {},
   "source": [
    "## Calculations"
   ]
  },
  {
   "cell_type": "code",
   "execution_count": 7,
   "metadata": {},
   "outputs": [],
   "source": [
    "# professor wrote comments as personal guide to code prior to beginning cracking\n",
    "\n",
    "# Goal: For each row of data calculate and store the w2h_ratio and shape.\n",
    "\n",
    "# calc w:h & return as array\n",
    "w2h_ratios = rows['Waist']/rows['Hip']\n",
    "\n",
    "# discern male & female\n",
    "males = (rows['Gender']=='M')\n",
    "\n",
    "# male apple if w2h>0.9\n",
    "male_apples = np.logical_and((w2h_ratios>0.9), males)\n",
    "\n",
    "# female apple if w2h>0.8\n",
    "female_apples = np.logical_and((w2h_ratios>0.8), np.logical_not(males))\n",
    "\n",
    "# group m & f apples\n",
    "apples = np.logical_or(male_apples,female_apples)\n",
    "\n",
    "# another form of if then else\n",
    "shapes=np.where(apples,'Apple','Pear')\n",
    "\n",
    "# result array\n",
    "\n",
    "# add two columns\n",
    "dt = np.dtype(rows.dtype.descr + [('W2H Ratio', float), ('Shape', 'U5')])\n",
    "\n",
    "# result arry new dtype equal number rows\n",
    "results = np.zeros(rows.shape,dtype=dt)\n",
    "\n",
    "# copy rows data, names come from dtype\n",
    "for c in rows.dtype.names:\n",
    "        results[c]=rows[c]\n",
    "        \n",
    "# add the new columns\n",
    "results['W2H Ratio']=w2h_ratios\n",
    "results['Shape']=shapes\n",
    "\n",
    "\n",
    "    \n",
    "     "
   ]
  },
  {
   "cell_type": "markdown",
   "metadata": {},
   "source": [
    "## Output"
   ]
  },
  {
   "cell_type": "code",
   "execution_count": 16,
   "metadata": {},
   "outputs": [
    {
     "ename": "SyntaxError",
     "evalue": "invalid syntax (<ipython-input-16-5e5f46fe4729>, line 10)",
     "output_type": "error",
     "traceback": [
      "\u001b[1;36m  File \u001b[1;32m\"<ipython-input-16-5e5f46fe4729>\"\u001b[1;36m, line \u001b[1;32m10\u001b[0m\n\u001b[1;33m    html_table += \"</td></tr>\"\u001b[0m\n\u001b[1;37m             ^\u001b[0m\n\u001b[1;31mSyntaxError\u001b[0m\u001b[1;31m:\u001b[0m invalid syntax\n"
     ]
    }
   ],
   "source": [
    "# Goal: pretty print the rows as an HTML table\n",
    "\n",
    "# Note: this works, but we can do this much better with pandas\n",
    "html_table = '<table><tr><th>'\n",
    "html_table += \"</th><th>\".join(results.dtype.names)\n",
    "html_table += '</th></tr>'\n",
    "for row in rows:\n",
    "    html_table += \"<tr><td>\"\n",
    "    html_table += \"</td><td>\".join(str(v) for v in row\n",
    "    html_table += \"</td></tr>\"\n",
    "html_table += \"</table>\"\n",
    "\n",
    "from IPython.display import HTML, display\n",
    "display(HTML(html_table))\n",
    "                                                                     "
   ]
  },
  {
   "cell_type": "code",
   "execution_count": null,
   "metadata": {
    "collapsed": true
   },
   "outputs": [],
   "source": []
  },
  {
   "cell_type": "code",
   "execution_count": null,
   "metadata": {
    "collapsed": true
   },
   "outputs": [],
   "source": []
  }
 ],
 "metadata": {
  "kernelspec": {
   "display_name": "Python 3",
   "language": "python",
   "name": "python3"
  },
  "language_info": {
   "codemirror_mode": {
    "name": "ipython",
    "version": 3
   },
   "file_extension": ".py",
   "mimetype": "text/x-python",
   "name": "python",
   "nbconvert_exporter": "python",
   "pygments_lexer": "ipython3",
   "version": "3.6.1"
  }
 },
 "nbformat": 4,
 "nbformat_minor": 2
}
